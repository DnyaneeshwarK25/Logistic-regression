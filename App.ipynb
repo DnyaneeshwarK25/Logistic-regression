{
 "cells": [
  {
   "cell_type": "markdown",
   "id": "66758554-0657-45f5-98c7-068ce3dba82b",
   "metadata": {},
   "source": [
    "# App.py"
   ]
  },
  {
   "cell_type": "code",
   "execution_count": 2,
   "id": "959310ac-4e18-4b47-9e84-573ea0119571",
   "metadata": {},
   "outputs": [],
   "source": [
    "# app.py\n",
    "import streamlit as st\n",
    "import pickle\n",
    "import warnings\n",
    "\n",
    "# Suppress warnings\n",
    "warnings.filterwarnings(\"ignore\")"
   ]
  },
  {
   "cell_type": "code",
   "execution_count": 5,
   "id": "0bc974c6-5759-470c-8108-b850440fc516",
   "metadata": {},
   "outputs": [
    {
     "name": "stderr",
     "output_type": "stream",
     "text": [
      "2025-03-05 19:42:13.095 \n",
      "  \u001b[33m\u001b[1mWarning:\u001b[0m to view this Streamlit app on a browser, run it with the following\n",
      "  command:\n",
      "\n",
      "    streamlit run C:\\Users\\dnyan\\anaconda3\\Lib\\site-packages\\ipykernel_launcher.py [ARGUMENTS]\n",
      "2025-03-05 19:42:13.098 Session state does not function when running a script without `streamlit run`\n"
     ]
    }
   ],
   "source": [
    "def predict_survival(input_data):\n",
    "    with open(\"logistic_regression_titanic.pkl\", \"rb\") as file:\n",
    "        model = pickle.load(file)\n",
    "    return model.predict_proba([input_data])[0][1]\n",
    "\n",
    "st.title(\"Titanic Survival Prediction\")\n",
    "st.write(\"Enter passenger details to predict survival probability\")\n",
    "\n",
    "pclass = st.selectbox(\"Passenger Class\", [1, 2, 3])\n",
    "sex = st.selectbox(\"Sex\", [\"Male\", \"Female\"])\n",
    "age = st.slider(\"Age\", 1, 100, 30)\n",
    "sibsp = st.number_input(\"Siblings/Spouses Aboard\", 0, 8, 0)\n",
    "parch = st.number_input(\"Parents/Children Aboard\", 0, 6, 0)\n",
    "fare = st.number_input(\"Fare\", 0.0, 500.0, 30.0)\n",
    "embarked = st.selectbox(\"Embarked\", [\"C\", \"Q\", \"S\"])\n",
    "\n",
    "sex = 1 if sex == \"Male\" else 0\n",
    "embarked = {\"C\": 0, \"Q\": 1, \"S\": 2}[embarked]\n",
    "input_data = [pclass, sex, age, sibsp, parch, fare, embarked]\n",
    "\n",
    "if st.button(\"Predict Survival\"):\n",
    "    survival_probability = predict_survival(input_data)\n",
    "    st.write(f\"Survival Probability: {survival_probability:.2f}\")\n"
   ]
  },
  {
   "cell_type": "code",
   "execution_count": null,
   "id": "75ea3267-4423-4d8e-8d93-a761d885738e",
   "metadata": {},
   "outputs": [],
   "source": []
  }
 ],
 "metadata": {
  "kernelspec": {
   "display_name": "Python 3 (ipykernel)",
   "language": "python",
   "name": "python3"
  },
  "language_info": {
   "codemirror_mode": {
    "name": "ipython",
    "version": 3
   },
   "file_extension": ".py",
   "mimetype": "text/x-python",
   "name": "python",
   "nbconvert_exporter": "python",
   "pygments_lexer": "ipython3",
   "version": "3.12.7"
  }
 },
 "nbformat": 4,
 "nbformat_minor": 5
}
